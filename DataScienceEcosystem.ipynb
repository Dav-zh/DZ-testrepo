{
 "cells": [
  {
   "cell_type": "markdown",
   "id": "36c51c67-34a5-4446-a72b-23e476d73103",
   "metadata": {},
   "source": [
    "Exercise 2 - Create a markdown cell with the title of the notebook\n",
    "\n",
    "# Data Science Tools and Ecosystem"
   ]
  },
  {
   "cell_type": "markdown",
   "id": "0c070ef0-0c6a-4c6b-94c6-f15a35c1772f",
   "metadata": {},
   "source": [
    "Exercise 3 - Create a markdown cell for an introduction\n",
    "\n",
    "In this notebook, Data Science Tools and Ecosystem are summarized."
   ]
  },
  {
   "cell_type": "markdown",
   "id": "9fa53d53-d9bb-4db5-8c4c-f67a082053f2",
   "metadata": {},
   "source": [
    "Exercise 4 - Create a markdown cell to list data science languages\n",
    "\n",
    "Some of the popular languages that Data Scientists use are:\n",
    "1. Python\n",
    "2. R\n",
    "3. SQL\n",
    "4. Scala\n",
    "5. SAS"
   ]
  },
  {
   "cell_type": "markdown",
   "id": "7eca4c82-0e5e-491d-aeda-7bfa1fa8e6ef",
   "metadata": {},
   "source": [
    "Exercise 5 - Create a markdown cell to list data science libraries\n",
    "\n",
    "Some of the commonly used libraries used by Data Scientists include:\n",
    "1. Numby\n",
    "2. Pandas\n",
    "3. Matplotlib\n",
    "4. Scikit-learn"
   ]
  },
  {
   "cell_type": "markdown",
   "id": "e05128d6-f987-43b8-871c-b696dca768c0",
   "metadata": {},
   "source": [
    "Exercise 6 - Create a markdown cell with a table of Data Science tools.\n",
    "\n",
    "\n",
    "| Data Science Tools    |\n",
    "|:----------------------|\n",
    "| Jupyter Notebook      |\n",
    "| RStudio               |\n",
    "| VS Code               |"
   ]
  },
  {
   "cell_type": "markdown",
   "id": "bac079bc-550c-475b-aac8-c32deb635d02",
   "metadata": {},
   "source": [
    "Exercise 7 - Create a markdown cell introducing arithmetic expression examples. \n",
    "\n",
    "# Below are a few examples of evaluating arithmetic expressions in Python."
   ]
  },
  {
   "cell_type": "markdown",
   "id": "1f1fe44b-61e6-4abb-a5d6-e259e520d4ff",
   "metadata": {},
   "source": [
    "Exercise 8 - Create a code cell to multiply and add numbers"
   ]
  },
  {
   "cell_type": "code",
   "execution_count": 2,
   "id": "0d4b76c2-9ed9-4575-a4f3-3248b5e4dc56",
   "metadata": {
    "tags": []
   },
   "outputs": [
    {
     "data": {
      "text/plain": [
       "17"
      ]
     },
     "execution_count": 2,
     "metadata": {},
     "output_type": "execute_result"
    }
   ],
   "source": [
    "# This a simple arithmetic expression to mutiply then add integers\n",
    "(3*4)+5"
   ]
  },
  {
   "cell_type": "markdown",
   "id": "910b18b1-238f-4f26-a47d-0188ac5c6fae",
   "metadata": {},
   "source": [
    "Exercise 9 - Create a code cell to convert minutes to hours. "
   ]
  },
  {
   "cell_type": "code",
   "execution_count": 3,
   "id": "096061b5-d2b3-4a6d-81f1-6a3d01d396c1",
   "metadata": {
    "tags": []
   },
   "outputs": [
    {
     "data": {
      "text/plain": [
       "3.3333333333333335"
      ]
     },
     "execution_count": 3,
     "metadata": {},
     "output_type": "execute_result"
    }
   ],
   "source": [
    "#This will convert 200 minutes to hours by diving by 60\n",
    "200/60"
   ]
  },
  {
   "cell_type": "markdown",
   "id": "6b6aedce-34d6-48c4-a072-8171c858f03e",
   "metadata": {},
   "source": [
    "Exercise 10 -Insert a markdown cell to list Objectives. (3 pts)\n",
    "\n",
    "\n",
    "**Objectives:**\n",
    "- List popular languages for Data Science\n",
    "- Explore key data science libraries and frameworks\n",
    "- Understand the data science workflow\n",
    "- Discuss data visualization techniques"
   ]
  },
  {
   "cell_type": "markdown",
   "id": "8aab1196-bf95-4d11-8277-77a1c7bd372f",
   "metadata": {},
   "source": [
    "Exercise 11 - Create a markdown cell to indicate the Author’s name\n",
    "\n",
    "## Author\n",
    "David Zhang"
   ]
  },
  {
   "cell_type": "code",
   "execution_count": null,
   "id": "cbe5cf24-fb3f-4662-9926-403a85fa8b91",
   "metadata": {},
   "outputs": [],
   "source": []
  }
 ],
 "metadata": {
  "kernelspec": {
   "display_name": "Python",
   "language": "python",
   "name": "conda-env-python-py"
  },
  "language_info": {
   "codemirror_mode": {
    "name": "ipython",
    "version": 3
   },
   "file_extension": ".py",
   "mimetype": "text/x-python",
   "name": "python",
   "nbconvert_exporter": "python",
   "pygments_lexer": "ipython3",
   "version": "3.7.12"
  }
 },
 "nbformat": 4,
 "nbformat_minor": 5
}
